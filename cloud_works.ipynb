{
 "cells": [
  {
   "cell_type": "code",
   "execution_count": 17,
   "id": "b4b0a6a2",
   "metadata": {},
   "outputs": [],
   "source": [
    "import boto3\n",
    "import os\n",
    "\n",
    "def bucket_list():\n",
    "    s3 = boto3.resource(\"s3\", aws_access_key_id = key_id, aws_secret_access_key\n",
    " = secret_key)\n",
    "    buckets = []\n",
    "    for bucket in s3.buckets.all():\n",
    "        #print(bucket.name)\n",
    "        buckets.append(bucket.name)\n",
    "    return buckets\n",
    "\n",
    "def create_bucket(bucket_name, region):\n",
    "    \n",
    "    buckets = bucket_list()\n",
    "    if(bucket_name in buckets):\n",
    "        print(\"Bucket with this name already exists\")\n",
    "        return False\n",
    "    try:\n",
    "        if region is None:\n",
    "            s3_client = boto3.client('s3', aws_access_key_id = key_id, \n",
    "                             aws_secret_access_key = secret_key)\n",
    "            s3_client.create_bucket(Bucket=bucket_name)\n",
    "        else:\n",
    "            s3_client = boto3.client('s3', aws_access_key_id = key_id, \n",
    "                                     aws_secret_access_key = secret_key,\n",
    "                                     region_name=region)\n",
    "            location = {'LocationConstraint': region}\n",
    "            s3_client.create_bucket(Bucket=bucket_name,\n",
    "                                    CreateBucketConfiguration=location)\n",
    "    except ClientError as e:\n",
    "        print(e)\n",
    "        return False\n",
    "    \n",
    "    print(response)\n",
    "    return True\n",
    "\n",
    "def destroy_bucket(bucket_name):\n",
    "    buckets = bucket_list()\n",
    "    if(bucket_name not in buckets):\n",
    "        print(\"Bucket with this name does not exists\")\n",
    "        return False\n",
    "    s3_client = boto3.client('s3', aws_access_key_id = key_id, \n",
    "                             aws_secret_access_key = secret_key)\n",
    "    response = s3_client.delete_bucket(Bucket=bucket_name)\n",
    "    print(response)\n",
    "    return True\n",
    "\n",
    "\n",
    "def create_key_pair(region = \"us-east-1\", keyName = \"ec2-key-pair\"):\n",
    "    ec2 = boto3.client('ec2', aws_access_key_id = key_id, \n",
    "                             aws_secret_access_key = secret_key, \n",
    "                             region_name=region)\n",
    "    key_pair = ec2.create_key_pair(KeyName = keyName)\n",
    "    private_key = key_pair[\"KeyMaterial\"]\n",
    "    if (os.path.isfile(\"aws_ec2_key.pem\")):\n",
    "        os.remove(\"aws_ec2_key.pem\")\n",
    "    with os.fdopen(os.open(\"aws_ec2_key.pem\", os.O_WRONLY | os.O_CREAT, 0o400), \"w+\") as handle:\n",
    "        handle.write(private_key)\n",
    "    return True\n",
    "\n",
    "\n",
    "def delete_key_pair(region = \"us-east-1\", keyName = \"ec2-key-pair\"):\n",
    "    if (os.path.isfile(\"aws_ec2_key.pem\")):\n",
    "        os.remove(\"aws_ec2_key.pem\")\n",
    "    ec2 = boto3.client('ec2', aws_access_key_id = key_id, \n",
    "                       aws_secret_access_key = secret_key,\n",
    "                       region_name=region)\n",
    "    response = ec2.delete_key_pair(KeyName=keyName)\n",
    "    print(response)\n",
    "    return True\n",
    "\n",
    "\n",
    "from botocore.exceptions import ClientError\n",
    "\n",
    "\n",
    "with open('cred') as f:\n",
    "    lines = f.readlines()\n",
    "key_id = (lines[0])[:-1]\n",
    "secret_key = lines[1]"
   ]
  },
  {
   "cell_type": "code",
   "execution_count": 21,
   "id": "542fb8ea",
   "metadata": {},
   "outputs": [],
   "source": [
    "def get_running_instances(region):\n",
    "    ec2_client = boto3.client(\"ec2\", aws_access_key_id = key_id, \n",
    "                             aws_secret_access_key = secret_key, \n",
    "                             region_name=region)\n",
    "    reservations = ec2_client.describe_instances(Filters=[\n",
    "    {\n",
    "        \"Name\": \"instance-state-name\",\n",
    "        \"Values\": [\"running\"],\n",
    "    },\n",
    "    {\n",
    "    \"Name\": \"instance-type\",\n",
    "    \"Values\": [\"t2.micro\"]\n",
    "    }]).get(\"Reservations\")\n",
    "    for reservation in reservations:\n",
    "        for instance in reservation[\"Instances\"]:\n",
    "            instance_id = instance[\"InstanceId\"]\n",
    "            instance_type = instance[\"InstanceType\"]\n",
    "            public_ip = instance[\"PublicIpAddress\"]\n",
    "            private_ip = instance[\"PrivateIpAddress\"]\n",
    "            print(f\"{instance_id}, {instance_type}, {public_ip},{private_ip}\")"
   ]
  },
  {
   "cell_type": "code",
   "execution_count": 22,
   "id": "05823d12",
   "metadata": {},
   "outputs": [
    {
     "name": "stdout",
     "output_type": "stream",
     "text": [
      "i-08f5a8c681879b836, t2.micro, 54.158.88.10,172.31.94.147\n"
     ]
    }
   ],
   "source": [
    "get_running_instances(region = \"us-east-1\")"
   ]
  },
  {
   "cell_type": "code",
   "execution_count": 11,
   "id": "6f0582f6",
   "metadata": {},
   "outputs": [
    {
     "data": {
      "text/plain": [
       "['truezhesha']"
      ]
     },
     "execution_count": 11,
     "metadata": {},
     "output_type": "execute_result"
    }
   ],
   "source": [
    "bucket_list()"
   ]
  },
  {
   "cell_type": "code",
   "execution_count": 50,
   "id": "c1d07964",
   "metadata": {},
   "outputs": [],
   "source": []
  },
  {
   "cell_type": "code",
   "execution_count": 43,
   "id": "715dc4d4",
   "metadata": {},
   "outputs": [],
   "source": []
  },
  {
   "cell_type": "code",
   "execution_count": 46,
   "id": "c99b3113",
   "metadata": {},
   "outputs": [],
   "source": []
  },
  {
   "cell_type": "code",
   "execution_count": 49,
   "id": "a99c16ee",
   "metadata": {},
   "outputs": [
    {
     "name": "stdout",
     "output_type": "stream",
     "text": [
      "{'ResponseMetadata': {'RequestId': '9e2c6e08-bf31-46e7-b330-cbefb5c19547', 'HTTPStatusCode': 200, 'HTTPHeaders': {'x-amzn-requestid': '9e2c6e08-bf31-46e7-b330-cbefb5c19547', 'cache-control': 'no-cache, no-store', 'strict-transport-security': 'max-age=31536000; includeSubDomains', 'content-type': 'text/xml;charset=UTF-8', 'content-length': '276', 'date': 'Fri, 26 May 2023 12:57:46 GMT', 'server': 'AmazonEC2'}, 'RetryAttempts': 0}}\n"
     ]
    },
    {
     "data": {
      "text/plain": [
       "True"
      ]
     },
     "execution_count": 49,
     "metadata": {},
     "output_type": "execute_result"
    }
   ],
   "source": [
    "delete_key_pair(region = \"us-east-1\", keyName = \"ec2-key-pair\")"
   ]
  },
  {
   "cell_type": "code",
   "execution_count": 51,
   "id": "9003518c",
   "metadata": {},
   "outputs": [
    {
     "data": {
      "text/plain": [
       "True"
      ]
     },
     "execution_count": 51,
     "metadata": {},
     "output_type": "execute_result"
    }
   ],
   "source": [
    "create_key_pair(region = \"us-east-1\", keyName = \"ec2-key-pair\")"
   ]
  },
  {
   "cell_type": "code",
   "execution_count": 22,
   "id": "d5ed30ad",
   "metadata": {},
   "outputs": [],
   "source": [
    "def upload(file_path, bucket_name, path):\n",
    "    try:\n",
    "        s3_client = boto3.client('s3', aws_access_key_id = key_id, \n",
    "                                 aws_secret_access_key = secret_key)\n",
    "        response = s3_client.upload_file(Filename=file_path, Bucket=bucket_name, Key=path)\n",
    "        print(response)\n",
    "    except ClientError as e:\n",
    "        print(e)\n",
    "        return False\n",
    "    \n",
    "    return True"
   ]
  },
  {
   "cell_type": "code",
   "execution_count": 23,
   "id": "5fa8032a",
   "metadata": {},
   "outputs": [
    {
     "name": "stdout",
     "output_type": "stream",
     "text": [
      "None\n"
     ]
    },
    {
     "data": {
      "text/plain": [
       "True"
      ]
     },
     "execution_count": 23,
     "metadata": {},
     "output_type": "execute_result"
    }
   ],
   "source": [
    "upload('cur_df.csv', 'truezhesha', 'cur_df.csv')"
   ]
  },
  {
   "cell_type": "code",
   "execution_count": 61,
   "id": "79354dfe",
   "metadata": {},
   "outputs": [],
   "source": [
    "def create_instance(region, keyName):\n",
    "    try:\n",
    "        ec2_client = boto3.client('ec2', aws_access_key_id = key_id, \n",
    "                                  aws_secret_access_key = secret_key,\n",
    "                                  region_name=region)\n",
    "        instances = ec2_client.run_instances(ImageId=\"ami-0bef6cc322bfff646\",\n",
    "                                             MinCount=1,\n",
    "                                             MaxCount=1,\n",
    "                                             InstanceType=\"t2.micro\",\n",
    "                                             KeyName=keyName)\n",
    "        \n",
    "    except ClientError as e:\n",
    "        print(e)\n",
    "        return False\n",
    "    return True"
   ]
  },
  {
   "cell_type": "code",
   "execution_count": 62,
   "id": "1b410168",
   "metadata": {},
   "outputs": [],
   "source": [
    "create_instance(region = \"us-east-1\", keyName = \"ec2-key-pair\")"
   ]
  },
  {
   "cell_type": "code",
   "execution_count": 13,
   "id": "302d6449",
   "metadata": {},
   "outputs": [],
   "source": [
    "def get_public_ip(instance_id, region):\n",
    "    ec2_client = boto3.client(\"ec2\", aws_access_key_id = key_id, \n",
    "                                  aws_secret_access_key = secret_key,\n",
    "                                  region_name=region)\n",
    "    try:\n",
    "        reservations = ec2_client.describe_instances(InstanceIds=[instance_id]).get(\"Reservations\")\n",
    "\n",
    "        for reservation in reservations:\n",
    "            for instance in reservation['Instances']:\n",
    "                print(instance.get(\"PublicIpAddress\"))\n",
    "    except ClientError as e:\n",
    "        print(e)\n",
    "        return False            \n",
    "    return True"
   ]
  },
  {
   "cell_type": "code",
   "execution_count": 14,
   "id": "cddcab09",
   "metadata": {},
   "outputs": [
    {
     "name": "stdout",
     "output_type": "stream",
     "text": [
      "54.163.183.200\n"
     ]
    },
    {
     "data": {
      "text/plain": [
       "True"
      ]
     },
     "execution_count": 14,
     "metadata": {},
     "output_type": "execute_result"
    }
   ],
   "source": [
    "\n",
    "get_public_ip(region = \"us-east-1\", instance_id ='i-08f5a8c681879b836')"
   ]
  },
  {
   "cell_type": "code",
   "execution_count": 9,
   "id": "9277551e",
   "metadata": {},
   "outputs": [],
   "source": [
    "def stop_instance(region, instance_id):\n",
    "    try:\n",
    "        ec2_client = boto3.client(\"ec2\", aws_access_key_id = key_id, \n",
    "                                  aws_secret_access_key = secret_key,\n",
    "                                  region_name=region)\n",
    "        response = ec2_client.stop_instances(InstanceIds=[instance_id])\n",
    "        print(response)\n",
    "    except ClientError as e:\n",
    "        print(e)\n",
    "        return False\n",
    "    return True"
   ]
  },
  {
   "cell_type": "code",
   "execution_count": 10,
   "id": "27ddd5bf",
   "metadata": {},
   "outputs": [
    {
     "name": "stdout",
     "output_type": "stream",
     "text": [
      "{'StoppingInstances': [{'CurrentState': {'Code': 64, 'Name': 'stopping'}, 'InstanceId': 'i-0a47be85a9de8c3ba', 'PreviousState': {'Code': 16, 'Name': 'running'}}], 'ResponseMetadata': {'RequestId': '36157755-ba7d-41fb-ad3a-93587cd7ad8b', 'HTTPStatusCode': 200, 'HTTPHeaders': {'x-amzn-requestid': '36157755-ba7d-41fb-ad3a-93587cd7ad8b', 'cache-control': 'no-cache, no-store', 'strict-transport-security': 'max-age=31536000; includeSubDomains', 'content-type': 'text/xml;charset=UTF-8', 'content-length': '579', 'date': 'Fri, 26 May 2023 15:00:23 GMT', 'server': 'AmazonEC2'}, 'RetryAttempts': 0}}\n"
     ]
    },
    {
     "data": {
      "text/plain": [
       "True"
      ]
     },
     "execution_count": 10,
     "metadata": {},
     "output_type": "execute_result"
    }
   ],
   "source": [
    "\n",
    "stop_instance(region = \"us-east-1\", instance_id ='i-0a47be85a9de8c3ba')"
   ]
  },
  {
   "cell_type": "code",
   "execution_count": 12,
   "id": "d8205d1f",
   "metadata": {},
   "outputs": [
    {
     "name": "stdout",
     "output_type": "stream",
     "text": [
      "An error occurred (InvalidInstanceID.NotFound) when calling the StopInstances operation: The instance ID 'i-0a47be85a9de8c3ba' does not exist\n"
     ]
    },
    {
     "data": {
      "text/plain": [
       "False"
      ]
     },
     "execution_count": 12,
     "metadata": {},
     "output_type": "execute_result"
    }
   ],
   "source": [
    "\n",
    "stop_instance(region = \"us-east-2\", instance_id ='i-0a47be85a9de8c3ba')"
   ]
  },
  {
   "cell_type": "code",
   "execution_count": 25,
   "id": "5ce055f4",
   "metadata": {},
   "outputs": [],
   "source": [
    "def start_instance(region, instance_id):\n",
    "    try:\n",
    "        ec2_client = boto3.client(\"ec2\", aws_access_key_id = key_id, \n",
    "                                  aws_secret_access_key = secret_key,\n",
    "                                  region_name=region)\n",
    "        response = ec2_client.start_instances(InstanceIds=[instance_id])\n",
    "        print(response)\n",
    "    except ClientError as e:\n",
    "        print(e)\n",
    "        return False\n",
    "    return True"
   ]
  },
  {
   "cell_type": "code",
   "execution_count": 26,
   "id": "7faf076c",
   "metadata": {},
   "outputs": [
    {
     "name": "stdout",
     "output_type": "stream",
     "text": [
      "{'StartingInstances': [{'CurrentState': {'Code': 0, 'Name': 'pending'}, 'InstanceId': 'i-0a47be85a9de8c3ba', 'PreviousState': {'Code': 80, 'Name': 'stopped'}}], 'ResponseMetadata': {'RequestId': '2158609b-f503-44c8-9cfe-17be6179b276', 'HTTPStatusCode': 200, 'HTTPHeaders': {'x-amzn-requestid': '2158609b-f503-44c8-9cfe-17be6179b276', 'cache-control': 'no-cache, no-store', 'strict-transport-security': 'max-age=31536000; includeSubDomains', 'content-type': 'text/xml;charset=UTF-8', 'content-length': '579', 'date': 'Fri, 26 May 2023 16:06:00 GMT', 'server': 'AmazonEC2'}, 'RetryAttempts': 0}}\n"
     ]
    },
    {
     "data": {
      "text/plain": [
       "True"
      ]
     },
     "execution_count": 26,
     "metadata": {},
     "output_type": "execute_result"
    }
   ],
   "source": [
    "\n",
    "start_instance(region = \"us-east-1\", instance_id ='i-0a47be85a9de8c3ba')"
   ]
  },
  {
   "cell_type": "code",
   "execution_count": 27,
   "id": "a92068fa",
   "metadata": {},
   "outputs": [],
   "source": [
    "def terminate_instance(region, instance_id):\n",
    "    try:\n",
    "        ec2_client = boto3.client(\"ec2\", aws_access_key_id = key_id, \n",
    "                                  aws_secret_access_key = secret_key,\n",
    "                                  region_name=region)\n",
    "        response = ec2_client.terminate_instances(InstanceIds=[instance_id])\n",
    "        print(response)\n",
    "    except ClientError as e:\n",
    "        print(e)\n",
    "        return False\n",
    "    return True"
   ]
  },
  {
   "cell_type": "code",
   "execution_count": 28,
   "id": "69011c69",
   "metadata": {},
   "outputs": [
    {
     "name": "stdout",
     "output_type": "stream",
     "text": [
      "{'TerminatingInstances': [{'CurrentState': {'Code': 32, 'Name': 'shutting-down'}, 'InstanceId': 'i-0a47be85a9de8c3ba', 'PreviousState': {'Code': 16, 'Name': 'running'}}], 'ResponseMetadata': {'RequestId': 'a1440f8a-22a4-4594-85d9-b28e01336bb7', 'HTTPStatusCode': 200, 'HTTPHeaders': {'x-amzn-requestid': 'a1440f8a-22a4-4594-85d9-b28e01336bb7', 'cache-control': 'no-cache, no-store', 'strict-transport-security': 'max-age=31536000; includeSubDomains', 'vary': 'accept-encoding', 'content-type': 'text/xml;charset=UTF-8', 'transfer-encoding': 'chunked', 'date': 'Fri, 26 May 2023 16:06:59 GMT', 'server': 'AmazonEC2'}, 'RetryAttempts': 0}}\n"
     ]
    },
    {
     "data": {
      "text/plain": [
       "True"
      ]
     },
     "execution_count": 28,
     "metadata": {},
     "output_type": "execute_result"
    }
   ],
   "source": [
    "terminate_instance(region = \"us-east-1\", instance_id ='i-0a47be85a9de8c3ba')\n"
   ]
  },
  {
   "cell_type": "code",
   "execution_count": 40,
   "id": "75df3f92",
   "metadata": {},
   "outputs": [
    {
     "name": "stdout",
     "output_type": "stream",
     "text": [
      "Bucket with this name already exists\n"
     ]
    },
    {
     "data": {
      "text/plain": [
       "False"
      ]
     },
     "execution_count": 40,
     "metadata": {},
     "output_type": "execute_result"
    }
   ],
   "source": [
    "\n",
    "create_bucket(\"truezhesha\", \"us-east-1\")"
   ]
  },
  {
   "cell_type": "code",
   "execution_count": 42,
   "id": "8b0a4259",
   "metadata": {},
   "outputs": [
    {
     "data": {
      "text/plain": [
       "True"
      ]
     },
     "execution_count": 42,
     "metadata": {},
     "output_type": "execute_result"
    }
   ],
   "source": [
    "create_bucket(\"truezhesha2\", 'eu-west-1')"
   ]
  },
  {
   "cell_type": "code",
   "execution_count": 53,
   "id": "ad0d91c8",
   "metadata": {},
   "outputs": [],
   "source": []
  },
  {
   "cell_type": "code",
   "execution_count": 54,
   "id": "ec6fa043",
   "metadata": {},
   "outputs": [
    {
     "name": "stdout",
     "output_type": "stream",
     "text": [
      "Bucket with this name does not exists\n"
     ]
    },
    {
     "data": {
      "text/plain": [
       "False"
      ]
     },
     "execution_count": 54,
     "metadata": {},
     "output_type": "execute_result"
    }
   ],
   "source": [
    "destroy_bucket(\"bucket\")"
   ]
  },
  {
   "cell_type": "code",
   "execution_count": 55,
   "id": "96230feb",
   "metadata": {},
   "outputs": [
    {
     "name": "stdout",
     "output_type": "stream",
     "text": [
      "{'ResponseMetadata': {'RequestId': '7E6T3MDXCC20FET6', 'HostId': 'iHADZpE7+tf0gwXfVgba+C7DNHdEeeLwtYZClMqGBEvB+qsAtzzLiPpnuF9qiO/ktzGoPljtTAk=', 'HTTPStatusCode': 204, 'HTTPHeaders': {'x-amz-id-2': 'iHADZpE7+tf0gwXfVgba+C7DNHdEeeLwtYZClMqGBEvB+qsAtzzLiPpnuF9qiO/ktzGoPljtTAk=', 'x-amz-request-id': '7E6T3MDXCC20FET6', 'date': 'Fri, 26 May 2023 13:03:37 GMT', 'server': 'AmazonS3'}, 'RetryAttempts': 1}}\n"
     ]
    },
    {
     "data": {
      "text/plain": [
       "True"
      ]
     },
     "execution_count": 55,
     "metadata": {},
     "output_type": "execute_result"
    }
   ],
   "source": [
    "destroy_bucket(\"truezhesha2\")"
   ]
  },
  {
   "cell_type": "code",
   "execution_count": 25,
   "id": "82d27b17",
   "metadata": {},
   "outputs": [],
   "source": [
    "def get_object(bucket_name, key):\n",
    "\n",
    "    try:\n",
    "        s3_client = boto3.client('s3')\n",
    "        obj = s3_client.get_object(\n",
    "            Bucket = bucket_name,\n",
    "            Key = key\n",
    "        )\n",
    "    except ClientError as e:\n",
    "        print(e)\n",
    "        return False\n",
    "    return obj\n"
   ]
  },
  {
   "cell_type": "code",
   "execution_count": 26,
   "id": "009d29d2",
   "metadata": {},
   "outputs": [
    {
     "data": {
      "text/html": [
       "<div>\n",
       "<style scoped>\n",
       "    .dataframe tbody tr th:only-of-type {\n",
       "        vertical-align: middle;\n",
       "    }\n",
       "\n",
       "    .dataframe tbody tr th {\n",
       "        vertical-align: top;\n",
       "    }\n",
       "\n",
       "    .dataframe thead th {\n",
       "        text-align: right;\n",
       "    }\n",
       "</style>\n",
       "<table border=\"1\" class=\"dataframe\">\n",
       "  <thead>\n",
       "    <tr style=\"text-align: right;\">\n",
       "      <th></th>\n",
       "      <th>exchangedate</th>\n",
       "      <th>r030</th>\n",
       "      <th>cc</th>\n",
       "      <th>txt</th>\n",
       "      <th>enname</th>\n",
       "      <th>rate</th>\n",
       "      <th>units</th>\n",
       "      <th>rate_per_unit</th>\n",
       "      <th>group</th>\n",
       "      <th>calcdate</th>\n",
       "      <th>date</th>\n",
       "    </tr>\n",
       "  </thead>\n",
       "  <tbody>\n",
       "    <tr>\n",
       "      <th>0</th>\n",
       "      <td>01.01.2021</td>\n",
       "      <td>840</td>\n",
       "      <td>USD</td>\n",
       "      <td>Долар США</td>\n",
       "      <td>US Dollar</td>\n",
       "      <td>28.2746</td>\n",
       "      <td>1</td>\n",
       "      <td>28.2746</td>\n",
       "      <td>1</td>\n",
       "      <td>30.12.2020</td>\n",
       "      <td>2021-01-01</td>\n",
       "    </tr>\n",
       "    <tr>\n",
       "      <th>1</th>\n",
       "      <td>01.01.2021</td>\n",
       "      <td>978</td>\n",
       "      <td>EUR</td>\n",
       "      <td>Євро</td>\n",
       "      <td>Euro</td>\n",
       "      <td>34.7396</td>\n",
       "      <td>1</td>\n",
       "      <td>34.7396</td>\n",
       "      <td>1</td>\n",
       "      <td>30.12.2020</td>\n",
       "      <td>2021-01-01</td>\n",
       "    </tr>\n",
       "    <tr>\n",
       "      <th>2</th>\n",
       "      <td>02.01.2021</td>\n",
       "      <td>978</td>\n",
       "      <td>EUR</td>\n",
       "      <td>Євро</td>\n",
       "      <td>Euro</td>\n",
       "      <td>34.7396</td>\n",
       "      <td>1</td>\n",
       "      <td>34.7396</td>\n",
       "      <td>1</td>\n",
       "      <td>30.12.2020</td>\n",
       "      <td>2021-01-02</td>\n",
       "    </tr>\n",
       "    <tr>\n",
       "      <th>3</th>\n",
       "      <td>02.01.2021</td>\n",
       "      <td>840</td>\n",
       "      <td>USD</td>\n",
       "      <td>Долар США</td>\n",
       "      <td>US Dollar</td>\n",
       "      <td>28.2746</td>\n",
       "      <td>1</td>\n",
       "      <td>28.2746</td>\n",
       "      <td>1</td>\n",
       "      <td>30.12.2020</td>\n",
       "      <td>2021-01-02</td>\n",
       "    </tr>\n",
       "    <tr>\n",
       "      <th>4</th>\n",
       "      <td>03.01.2021</td>\n",
       "      <td>840</td>\n",
       "      <td>USD</td>\n",
       "      <td>Долар США</td>\n",
       "      <td>US Dollar</td>\n",
       "      <td>28.2746</td>\n",
       "      <td>1</td>\n",
       "      <td>28.2746</td>\n",
       "      <td>1</td>\n",
       "      <td>30.12.2020</td>\n",
       "      <td>2021-01-03</td>\n",
       "    </tr>\n",
       "    <tr>\n",
       "      <th>...</th>\n",
       "      <td>...</td>\n",
       "      <td>...</td>\n",
       "      <td>...</td>\n",
       "      <td>...</td>\n",
       "      <td>...</td>\n",
       "      <td>...</td>\n",
       "      <td>...</td>\n",
       "      <td>...</td>\n",
       "      <td>...</td>\n",
       "      <td>...</td>\n",
       "      <td>...</td>\n",
       "    </tr>\n",
       "    <tr>\n",
       "      <th>725</th>\n",
       "      <td>29.12.2021</td>\n",
       "      <td>978</td>\n",
       "      <td>EUR</td>\n",
       "      <td>Євро</td>\n",
       "      <td>Euro</td>\n",
       "      <td>30.8401</td>\n",
       "      <td>1</td>\n",
       "      <td>30.8401</td>\n",
       "      <td>1</td>\n",
       "      <td>28.12.2021</td>\n",
       "      <td>2021-12-29</td>\n",
       "    </tr>\n",
       "    <tr>\n",
       "      <th>726</th>\n",
       "      <td>30.12.2021</td>\n",
       "      <td>840</td>\n",
       "      <td>USD</td>\n",
       "      <td>Долар США</td>\n",
       "      <td>US Dollar</td>\n",
       "      <td>27.2077</td>\n",
       "      <td>1</td>\n",
       "      <td>27.2077</td>\n",
       "      <td>1</td>\n",
       "      <td>29.12.2021</td>\n",
       "      <td>2021-12-30</td>\n",
       "    </tr>\n",
       "    <tr>\n",
       "      <th>727</th>\n",
       "      <td>30.12.2021</td>\n",
       "      <td>978</td>\n",
       "      <td>EUR</td>\n",
       "      <td>Євро</td>\n",
       "      <td>Euro</td>\n",
       "      <td>30.7760</td>\n",
       "      <td>1</td>\n",
       "      <td>30.7760</td>\n",
       "      <td>1</td>\n",
       "      <td>29.12.2021</td>\n",
       "      <td>2021-12-30</td>\n",
       "    </tr>\n",
       "    <tr>\n",
       "      <th>728</th>\n",
       "      <td>31.12.2021</td>\n",
       "      <td>978</td>\n",
       "      <td>EUR</td>\n",
       "      <td>Євро</td>\n",
       "      <td>Euro</td>\n",
       "      <td>30.9226</td>\n",
       "      <td>1</td>\n",
       "      <td>30.9226</td>\n",
       "      <td>1</td>\n",
       "      <td>30.12.2021</td>\n",
       "      <td>2021-12-31</td>\n",
       "    </tr>\n",
       "    <tr>\n",
       "      <th>729</th>\n",
       "      <td>31.12.2021</td>\n",
       "      <td>840</td>\n",
       "      <td>USD</td>\n",
       "      <td>Долар США</td>\n",
       "      <td>US Dollar</td>\n",
       "      <td>27.2782</td>\n",
       "      <td>1</td>\n",
       "      <td>27.2782</td>\n",
       "      <td>1</td>\n",
       "      <td>30.12.2021</td>\n",
       "      <td>2021-12-31</td>\n",
       "    </tr>\n",
       "  </tbody>\n",
       "</table>\n",
       "<p>730 rows × 11 columns</p>\n",
       "</div>"
      ],
      "text/plain": [
       "    exchangedate  r030   cc        txt     enname     rate  units  \\\n",
       "0     01.01.2021   840  USD  Долар США  US Dollar  28.2746      1   \n",
       "1     01.01.2021   978  EUR       Євро       Euro  34.7396      1   \n",
       "2     02.01.2021   978  EUR       Євро       Euro  34.7396      1   \n",
       "3     02.01.2021   840  USD  Долар США  US Dollar  28.2746      1   \n",
       "4     03.01.2021   840  USD  Долар США  US Dollar  28.2746      1   \n",
       "..           ...   ...  ...        ...        ...      ...    ...   \n",
       "725   29.12.2021   978  EUR       Євро       Euro  30.8401      1   \n",
       "726   30.12.2021   840  USD  Долар США  US Dollar  27.2077      1   \n",
       "727   30.12.2021   978  EUR       Євро       Euro  30.7760      1   \n",
       "728   31.12.2021   978  EUR       Євро       Euro  30.9226      1   \n",
       "729   31.12.2021   840  USD  Долар США  US Dollar  27.2782      1   \n",
       "\n",
       "     rate_per_unit  group    calcdate        date  \n",
       "0          28.2746      1  30.12.2020  2021-01-01  \n",
       "1          34.7396      1  30.12.2020  2021-01-01  \n",
       "2          34.7396      1  30.12.2020  2021-01-02  \n",
       "3          28.2746      1  30.12.2020  2021-01-02  \n",
       "4          28.2746      1  30.12.2020  2021-01-03  \n",
       "..             ...    ...         ...         ...  \n",
       "725        30.8401      1  28.12.2021  2021-12-29  \n",
       "726        27.2077      1  29.12.2021  2021-12-30  \n",
       "727        30.7760      1  29.12.2021  2021-12-30  \n",
       "728        30.9226      1  30.12.2021  2021-12-31  \n",
       "729        27.2782      1  30.12.2021  2021-12-31  \n",
       "\n",
       "[730 rows x 11 columns]"
      ]
     },
     "execution_count": 26,
     "metadata": {},
     "output_type": "execute_result"
    }
   ],
   "source": [
    "obj = get_object(\"truezhesha\", \"cur_df.csv\")\n",
    "df = pandas.read_csv(obj['Body'])\n",
    "df"
   ]
  },
  {
   "cell_type": "code",
   "execution_count": 27,
   "id": "e4fcef55",
   "metadata": {},
   "outputs": [
    {
     "name": "stdout",
     "output_type": "stream",
     "text": [
      "An error occurred (NoSuchKey) when calling the GetObject operation: The specified key does not exist.\n"
     ]
    }
   ],
   "source": [
    "obj = get_object(\"truezhesha\", \"cur12_df.csv\")"
   ]
  },
  {
   "cell_type": "code",
   "execution_count": null,
   "id": "fb307a5b",
   "metadata": {},
   "outputs": [],
   "source": []
  }
 ],
 "metadata": {
  "kernelspec": {
   "display_name": "Python 3 (ipykernel)",
   "language": "python",
   "name": "python3"
  },
  "language_info": {
   "codemirror_mode": {
    "name": "ipython",
    "version": 3
   },
   "file_extension": ".py",
   "mimetype": "text/x-python",
   "name": "python",
   "nbconvert_exporter": "python",
   "pygments_lexer": "ipython3",
   "version": "3.7.16"
  }
 },
 "nbformat": 4,
 "nbformat_minor": 5
}
