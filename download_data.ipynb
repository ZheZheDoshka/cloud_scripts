{
 "cells": [
  {
   "cell_type": "code",
   "execution_count": 13,
   "id": "ca17d539",
   "metadata": {},
   "outputs": [],
   "source": [
    "import boto3\n",
    "import pandas as pd\n",
    "import json\n",
    "from urllib.request import urlopen"
   ]
  },
  {
   "cell_type": "code",
   "execution_count": 14,
   "id": "0129f91b",
   "metadata": {},
   "outputs": [],
   "source": [
    "with open('cred') as f:\n",
    "    lines = f.readlines()\n",
    "key_id = (lines[0])[:-1]\n",
    "secret_key = lines[1]"
   ]
  },
  {
   "cell_type": "code",
   "execution_count": 15,
   "id": "eebcd17a",
   "metadata": {},
   "outputs": [],
   "source": [
    "url = \"https://bank.gov.ua/NBU_Exchange/exchange_site?start=20210101&end=20211231&valcode=usd&sort=exchangedate&order=desc&json\"\n",
    "response = urlopen(url)"
   ]
  },
  {
   "cell_type": "code",
   "execution_count": 16,
   "id": "347e2c5a",
   "metadata": {},
   "outputs": [],
   "source": [
    "url2 = \"https://bank.gov.ua/NBU_Exchange/exchange_site?start=20210101&end=20211231&valcode=eur&sort=exchangedate&order=desc&json\"\n",
    "response_eur = urlopen(url2)"
   ]
  },
  {
   "cell_type": "code",
   "execution_count": 17,
   "id": "4533cda0",
   "metadata": {},
   "outputs": [],
   "source": [
    "df2= pd.DataFrame.from_records(json.loads(response_eur.read()))"
   ]
  },
  {
   "cell_type": "code",
   "execution_count": 18,
   "id": "39a39c73",
   "metadata": {},
   "outputs": [],
   "source": [
    "data_json = json.loads(response.read())"
   ]
  },
  {
   "cell_type": "code",
   "execution_count": 19,
   "id": "a3142c72",
   "metadata": {},
   "outputs": [],
   "source": [
    "df = pd.DataFrame.from_records(data_json)"
   ]
  },
  {
   "cell_type": "code",
   "execution_count": 20,
   "id": "e8a7af40",
   "metadata": {},
   "outputs": [],
   "source": [
    "df = df.append(df2)"
   ]
  },
  {
   "cell_type": "code",
   "execution_count": 21,
   "id": "82be4a57",
   "metadata": {},
   "outputs": [],
   "source": [
    "def to_date(row):\n",
    "    date_string = row[\"exchangedate\"]\n",
    "    return pd.to_datetime(date_string,\n",
    "               format=\"%d.%m.%Y\")"
   ]
  },
  {
   "cell_type": "code",
   "execution_count": 22,
   "id": "2385dddf",
   "metadata": {},
   "outputs": [],
   "source": [
    "df['date'] = df.apply(to_date, axis=1)"
   ]
  },
  {
   "cell_type": "code",
   "execution_count": 23,
   "id": "d975650a",
   "metadata": {},
   "outputs": [],
   "source": [
    "df = df.sort_values(by='date')"
   ]
  },
  {
   "cell_type": "code",
   "execution_count": 24,
   "id": "e83f4a5d",
   "metadata": {},
   "outputs": [],
   "source": [
    "df.to_csv(\"cur_df.csv\",index=False)"
   ]
  },
  {
   "cell_type": "code",
   "execution_count": 25,
   "id": "6df1c6b5",
   "metadata": {},
   "outputs": [],
   "source": [
    "\n",
    "s3 = boto3.resource('s3', aws_access_key_id = key_id, aws_secret_access_key\n",
    " = secret_key)\n",
    "s3.meta.client.upload_file('cur_df.csv', 'truezhesha', 'cur_df.csv')"
   ]
  },
  {
   "cell_type": "code",
   "execution_count": null,
   "id": "4f38ca68",
   "metadata": {},
   "outputs": [],
   "source": [
    "\n",
    "s3 = boto3.resource('s3', aws_access_key_id = key_id, aws_secret_access_key\n",
    " = secret_key)\n",
    "s3.meta.client.upload_file('graph.csv', 'truezhesha', 'cur_df.csv')"
   ]
  }
 ],
 "metadata": {
  "kernelspec": {
   "display_name": "Python 3 (ipykernel)",
   "language": "python",
   "name": "python3"
  },
  "language_info": {
   "codemirror_mode": {
    "name": "ipython",
    "version": 3
   },
   "file_extension": ".py",
   "mimetype": "text/x-python",
   "name": "python",
   "nbconvert_exporter": "python",
   "pygments_lexer": "ipython3",
   "version": "3.7.16"
  }
 },
 "nbformat": 4,
 "nbformat_minor": 5
}
